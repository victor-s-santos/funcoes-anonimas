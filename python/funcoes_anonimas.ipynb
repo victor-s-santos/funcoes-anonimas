{
 "cells": [
  {
   "cell_type": "markdown",
   "metadata": {},
   "source": [
    "## Treinamento de funções anônimas com Lambda "
   ]
  },
  {
   "cell_type": "code",
   "execution_count": 2,
   "metadata": {},
   "outputs": [
    {
     "data": {
      "text/plain": [
       "6"
      ]
     },
     "execution_count": 2,
     "metadata": {},
     "output_type": "execute_result"
    }
   ],
   "source": [
    "fc = lambda x, y: x * y\n",
    "fc(2,3)"
   ]
  },
  {
   "cell_type": "code",
   "execution_count": 6,
   "metadata": {},
   "outputs": [
    {
     "data": {
      "text/plain": [
       "9"
      ]
     },
     "execution_count": 6,
     "metadata": {},
     "output_type": "execute_result"
    }
   ],
   "source": [
    "#eu posso criar uma função anônima dentro de uma função\n",
    "def soma_multiplica(a,b):\n",
    "    x = a+b\n",
    "    y = a-b\n",
    "    fc = lambda x, y: x * y\n",
    "    return fc(x,y)\n",
    "\n",
    "soma_multiplica(3,0)"
   ]
  },
  {
   "cell_type": "code",
   "execution_count": 7,
   "metadata": {},
   "outputs": [
    {
     "data": {
      "text/plain": [
       "-3"
      ]
     },
     "execution_count": 7,
     "metadata": {},
     "output_type": "execute_result"
    }
   ],
   "source": [
    "#não precisa ser declarada dentro de uma variável\n",
    "(lambda a, b: a - 3*b)(0, 1)"
   ]
  },
  {
   "cell_type": "code",
   "execution_count": 1,
   "metadata": {},
   "outputs": [
    {
     "data": {
      "text/plain": [
       "(0.000179290771484375, 4)"
      ]
     },
     "execution_count": 1,
     "metadata": {},
     "output_type": "execute_result"
    }
   ],
   "source": [
    "#medindo o tempo de execução de uma função e a mesma usando função lambda\n",
    "#função lambda\n",
    "import time\n",
    "inicia = time.time()\n",
    "a = (lambda x, y: x * y)(2,2)\n",
    "termina = time.time()\n",
    "(termina-inicia), a"
   ]
  },
  {
   "cell_type": "code",
   "execution_count": 1,
   "metadata": {},
   "outputs": [
    {
     "data": {
      "text/plain": [
       "(0.0002307891845703125, 4)"
      ]
     },
     "execution_count": 1,
     "metadata": {},
     "output_type": "execute_result"
    }
   ],
   "source": [
    "#função padrão\n",
    "import time\n",
    "inicia = time.time()\n",
    "def multiplica(a,b):\n",
    "    return(a*b)\n",
    "\n",
    "a = multiplica(2,2)\n",
    "termina = time.time()\n",
    "(termina-inicia), a"
   ]
  },
  {
   "cell_type": "markdown",
   "metadata": {},
   "source": [
    "#### Em um primeiro momento, é visto que a função lambda não possui um tempo de execução muito menor."
   ]
  },
  {
   "cell_type": "code",
   "execution_count": 1,
   "metadata": {},
   "outputs": [
    {
     "data": {
      "text/plain": [
       "(0.0003509521484375,\n",
       " [1,\n",
       "  4,\n",
       "  9,\n",
       "  16,\n",
       "  25,\n",
       "  36,\n",
       "  49,\n",
       "  64,\n",
       "  81,\n",
       "  100,\n",
       "  121,\n",
       "  144,\n",
       "  169,\n",
       "  196,\n",
       "  225,\n",
       "  256,\n",
       "  289,\n",
       "  324,\n",
       "  361])"
      ]
     },
     "execution_count": 1,
     "metadata": {},
     "output_type": "execute_result"
    }
   ],
   "source": [
    "import time\n",
    "inicia = time.time()\n",
    "def multiplica(a,b):\n",
    "    return(a*b)\n",
    "lista = []\n",
    "for i in range(1, 20):\n",
    "    lista.append(multiplica(i,i))\n",
    "termina = time.time()\n",
    "(termina - inicia),lista"
   ]
  },
  {
   "cell_type": "code",
   "execution_count": 1,
   "metadata": {},
   "outputs": [
    {
     "data": {
      "text/plain": [
       "(0.0002918243408203125,\n",
       " [1,\n",
       "  4,\n",
       "  9,\n",
       "  16,\n",
       "  25,\n",
       "  36,\n",
       "  49,\n",
       "  64,\n",
       "  81,\n",
       "  100,\n",
       "  121,\n",
       "  144,\n",
       "  169,\n",
       "  196,\n",
       "  225,\n",
       "  256,\n",
       "  289,\n",
       "  324,\n",
       "  361])"
      ]
     },
     "execution_count": 1,
     "metadata": {},
     "output_type": "execute_result"
    }
   ],
   "source": [
    "import time\n",
    "inicia = time.time()\n",
    "lista = []\n",
    "for i in range(1, 20):\n",
    "    lista.append((lambda x, y: x * y)(i,i))\n",
    "termina = time.time()\n",
    "(termina - inicia),lista"
   ]
  },
  {
   "cell_type": "markdown",
   "metadata": {},
   "source": [
    "## Outro exemplo"
   ]
  },
  {
   "cell_type": "code",
   "execution_count": 2,
   "metadata": {},
   "outputs": [
    {
     "name": "stdout",
     "output_type": "stream",
     "text": [
      "0\n",
      "2\n",
      "4\n"
     ]
    }
   ],
   "source": [
    "numeros = [0,2,3,4,5,7]\n",
    "pares = []\n",
    "for numero in numeros:\n",
    "    if numero % 2 == 0:\n",
    "        pares.append(numero)\n",
    "\n",
    "for par in pares:\n",
    "    print(par)"
   ]
  },
  {
   "cell_type": "code",
   "execution_count": 3,
   "metadata": {},
   "outputs": [
    {
     "name": "stdout",
     "output_type": "stream",
     "text": [
      "0\n",
      "2\n",
      "4\n"
     ]
    }
   ],
   "source": [
    "#fazendo a filtragem com o filter, ao invés do if\n",
    "numeros = [0,2,3,4,5,7]\n",
    "pares = filter(lambda valor: valor % 2 == 0, numeros)\n",
    "\n",
    "for par in pares:\n",
    "    print(par)"
   ]
  },
  {
   "cell_type": "markdown",
   "metadata": {},
   "source": [
    "## Vamos comparar seus tempos de execução"
   ]
  },
  {
   "cell_type": "code",
   "execution_count": 1,
   "metadata": {},
   "outputs": [
    {
     "data": {
      "text/plain": [
       "(0.0029540061950683594, [0, 2, 4])"
      ]
     },
     "execution_count": 1,
     "metadata": {},
     "output_type": "execute_result"
    }
   ],
   "source": [
    "import time\n",
    "inicia = time.time()\n",
    "numeros = [0,2,3,4,5,7]\n",
    "pares = []\n",
    "final = []\n",
    "for numero in numeros:\n",
    "    if numero % 2 == 0:\n",
    "        pares.append(numero)\n",
    "\n",
    "for par in pares:\n",
    "    final.append(par)\n",
    "termina = time.time()\n",
    "\n",
    "(termina-inicia), final"
   ]
  },
  {
   "cell_type": "code",
   "execution_count": 1,
   "metadata": {},
   "outputs": [
    {
     "data": {
      "text/plain": [
       "(0.00041365623474121094, [0, 2, 4])"
      ]
     },
     "execution_count": 1,
     "metadata": {},
     "output_type": "execute_result"
    }
   ],
   "source": [
    "import time\n",
    "inicia = time.time()\n",
    "numeros = [0,2,3,4,5,7]\n",
    "pares = filter(lambda valor: valor % 2 == 0, numeros)\n",
    "final = []\n",
    "\n",
    "for par in pares:\n",
    "    final.append(par)\n",
    "termina = time.time()\n",
    "(termina-inicia), final"
   ]
  },
  {
   "cell_type": "markdown",
   "metadata": {},
   "source": [
    "## Ficou um pouco mais interessante: a ordem de grandeza já está em 10\n",
    "* Calculando, chega-se a aproximadamente 7,5 vezes (tempo de execução usando if é 7,5 vezes maior ao tempo de execução usando filter e lambda)"
   ]
  },
  {
   "cell_type": "code",
   "execution_count": null,
   "metadata": {},
   "outputs": [],
   "source": []
  }
 ],
 "metadata": {
  "kernelspec": {
   "display_name": "Python 3",
   "language": "python",
   "name": "python3"
  },
  "language_info": {
   "codemirror_mode": {
    "name": "ipython",
    "version": 3
   },
   "file_extension": ".py",
   "mimetype": "text/x-python",
   "name": "python",
   "nbconvert_exporter": "python",
   "pygments_lexer": "ipython3",
   "version": "3.6.5"
  }
 },
 "nbformat": 4,
 "nbformat_minor": 2
}
